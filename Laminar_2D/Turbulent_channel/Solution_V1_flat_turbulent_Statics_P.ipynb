{
 "cells": [
  {
   "cell_type": "code",
   "execution_count": 1,
   "metadata": {
    "colab": {
     "base_uri": "https://localhost:8080/"
    },
    "id": "xJMAXc6zYKjq",
    "outputId": "57815226-0b7a-49ff-fe88-4b4f60dd3b55"
   },
   "outputs": [
    {
     "name": "stderr",
     "output_type": "stream",
     "text": [
      "/net/istmhome/users/hi224/Dokumente/Python/TorchPhysics/TP/lib/python3.8/site-packages/tqdm/auto.py:21: TqdmWarning: IProgress not found. Please update jupyter and ipywidgets. See https://ipywidgets.readthedocs.io/en/stable/user_install.html\n",
      "  from .autonotebook import tqdm as notebook_tqdm\n"
     ]
    }
   ],
   "source": [
    "import torch\n",
    "import torchphysics as tp\n",
    "X = tp.spaces.R1('x')\n",
    "Y = tp.spaces.R1('y')\n",
    "U = tp.spaces.R1('u')\n",
    "V = tp.spaces.R1('v')\n",
    "URMS = tp.spaces.R1('urms')\n",
    "VRMS = tp.spaces.R1('vrms')\n",
    "UV=tp.spaces.R1('uv')\n",
    "P=tp.spaces.R1('p')"
   ]
  },
  {
   "cell_type": "code",
   "execution_count": null,
   "metadata": {},
   "outputs": [],
   "source": []
  },
  {
   "cell_type": "code",
   "execution_count": 2,
   "metadata": {},
   "outputs": [],
   "source": [
    "import pandas as pd\n",
    "import numpy as np"
   ]
  },
  {
   "cell_type": "code",
   "execution_count": 3,
   "metadata": {},
   "outputs": [],
   "source": [
    "class Turbulent_Data(torch.utils.data.Dataset):\n",
    "    def __init__(self,data_DF,x_list,y_list):\n",
    "        self.x_train=data_DF[x_list].values\n",
    "        self.y_train=data_DF[y_list].values\n",
    "        #self.x_train=torch.tensor(x_train,dtype=torch.float32)\n",
    "        #self.y_train=torch.tensor(y_train,dtype=torch.float32)\n",
    "        #self.x_train=tp.spaces.Points(self.x_train,X*Y)\n",
    "        #self.y_train=tp.spaces.Points(self.y_train,U*V)\n",
    "    def __len__(self):\n",
    "        return len(self.y_train)\n",
    "\n",
    "    def __getitem__(self,idx):\n",
    "        #return self.x_train[idx] , self.y_train[idx]\n",
    "        #print(torch.as_tensor([self.x_train[idx]]).shape)\n",
    "        P_xtrain=tp.spaces.Points([self.x_train[idx]],X*Y,dtype=torch.float32)\n",
    "        P_ytrain=tp.spaces.Points([self.y_train[idx]],U*V*URMS*VRMS*UV,dtype=torch.float32)\n",
    "        return P_xtrain,P_ytrain"
   ]
  },
  {
   "cell_type": "code",
   "execution_count": 4,
   "metadata": {},
   "outputs": [],
   "source": [
    "class Ho_Turbulent_Data(torch.utils.data.Dataset):\n",
    "    def __init__(self,data_DF,x_list,y_list,horizon_sampler):\n",
    "        self.x_train=data_DF[x_list].values\n",
    "        self.y_train=data_DF[y_list].values\n",
    "        self.sampler=horizon_sampler\n",
    "        #self.x_train=torch.tensor(x_train,dtype=torch.float32)\n",
    "        #self.y_train=torch.tensor(y_train,dtype=torch.float32)\n",
    "        #self.x_train=tp.spaces.Points(self.x_train,X*Y)\n",
    "        #self.y_train=tp.spaces.Points(self.y_train,U*V)\n",
    "    def __len__(self):\n",
    "        return len(self.y_train)\n",
    "\n",
    "    def __getitem__(self,idx):\n",
    "        #return self.x_train[idx] , self.y_train[idx]\n",
    "        #print(torch.as_tensor([self.x_train[idx]]).shape)\n",
    "        x_horizon= self.sampler.sample_points(device=\"cpu\")\n",
    "        x_horizon,_=x_horizon.track_coord_gradients()\n",
    "        x_horizon=x_horizon[\"x\"].detach().numpy()\n",
    "        #print(x_horizon)\n",
    "        y_new=np.broadcast_to(self.x_train[idx],(x_horizon.shape[0],self.x_train[idx].shape[0]))\n",
    "        target_new=np.broadcast_to(self.y_train[idx],(x_horizon.shape[0],self.y_train[idx].shape[0]))\n",
    "        X_points = np.concatenate((x_horizon,y_new),axis=1)\n",
    "        P_xtrain=tp.spaces.Points([X_points],X*Y,dtype=torch.float32)\n",
    "        P_ytrain=tp.spaces.Points([target_new],U*V*URMS*VRMS*UV,dtype=torch.float32)\n",
    "        return P_xtrain,P_ytrain"
   ]
  },
  {
   "cell_type": "code",
   "execution_count": 5,
   "metadata": {},
   "outputs": [],
   "source": [
    "class Rn_Turbulent_Data(torch.utils.data.Dataset):\n",
    "    def __init__(self,data_DF,x_list,y_list,max_it):\n",
    "        self.x_train=data_DF[x_list].values\n",
    "        self.y_train=data_DF[y_list].values\n",
    "        self.length=min(max_it,len(self.y_train))\n",
    "        #self.x_train=torch.tensor(x_train,dtype=torch.float32)\n",
    "        #self.y_train=torch.tensor(y_train,dtype=torch.float32)\n",
    "        #self.x_train=tp.spaces.Points(self.x_train,X*Y)\n",
    "        #self.y_train=tp.spaces.Points(self.y_train,U*V)\n",
    "    def __len__(self):\n",
    "        return self.length\n",
    "\n",
    "    def __getitem__(self,idx):\n",
    "        #return self.x_train[idx] , self.y_train[idx]\n",
    "        #print(torch.as_tensor([self.x_train[idx]]).shape)\n",
    "        id_random=random.randint(0,len(self.y_train))\n",
    "        P_xtrain=tp.spaces.Points([self.x_train[id_random]],X*Y,dtype=torch.float32)\n",
    "        P_ytrain=tp.spaces.Points([self.y_train[id_random]],U*V*URMS*VRMS*UV,dtype=torch.float32)\n",
    "        return P_xtrain,P_ytrain"
   ]
  },
  {
   "cell_type": "code",
   "execution_count": 6,
   "metadata": {},
   "outputs": [],
   "source": [
    "DF_Data=pd.read_csv(\"Data/Flat_Turb_500.csv\")"
   ]
  },
  {
   "cell_type": "code",
   "execution_count": 7,
   "metadata": {},
   "outputs": [],
   "source": [
    "DF=DF_Data#[0::5]"
   ]
  },
  {
   "cell_type": "code",
   "execution_count": 8,
   "metadata": {
    "scrolled": true
   },
   "outputs": [],
   "source": [
    "#DF=DF[(DF[\"y\"]<=0.2)|(DF[\"y\"]>=1.8)]"
   ]
  },
  {
   "cell_type": "code",
   "execution_count": 9,
   "metadata": {},
   "outputs": [
    {
     "data": {
      "text/html": [
       "<div>\n",
       "<style scoped>\n",
       "    .dataframe tbody tr th:only-of-type {\n",
       "        vertical-align: middle;\n",
       "    }\n",
       "\n",
       "    .dataframe tbody tr th {\n",
       "        vertical-align: top;\n",
       "    }\n",
       "\n",
       "    .dataframe thead th {\n",
       "        text-align: right;\n",
       "    }\n",
       "</style>\n",
       "<table border=\"1\" class=\"dataframe\">\n",
       "  <thead>\n",
       "    <tr style=\"text-align: right;\">\n",
       "      <th></th>\n",
       "      <th>x</th>\n",
       "      <th>y</th>\n",
       "      <th>U</th>\n",
       "      <th>V</th>\n",
       "      <th>urms</th>\n",
       "      <th>vrms</th>\n",
       "      <th>uv</th>\n",
       "    </tr>\n",
       "  </thead>\n",
       "  <tbody>\n",
       "    <tr>\n",
       "      <th>0</th>\n",
       "      <td>0</td>\n",
       "      <td>0.000000</td>\n",
       "      <td>-7.184000e-16</td>\n",
       "      <td>-2.267000e-35</td>\n",
       "      <td>1.967500e-14</td>\n",
       "      <td>7.751400e-17</td>\n",
       "      <td>4.814100e-35</td>\n",
       "    </tr>\n",
       "    <tr>\n",
       "      <th>1</th>\n",
       "      <td>0</td>\n",
       "      <td>0.000031</td>\n",
       "      <td>1.286900e-03</td>\n",
       "      <td>3.593100e-26</td>\n",
       "      <td>5.187100e-04</td>\n",
       "      <td>2.314900e-07</td>\n",
       "      <td>-2.474000e-11</td>\n",
       "    </tr>\n",
       "    <tr>\n",
       "      <th>2</th>\n",
       "      <td>0</td>\n",
       "      <td>0.000123</td>\n",
       "      <td>5.147100e-03</td>\n",
       "      <td>6.249800e-25</td>\n",
       "      <td>2.074000e-03</td>\n",
       "      <td>3.681500e-06</td>\n",
       "      <td>-1.590600e-09</td>\n",
       "    </tr>\n",
       "    <tr>\n",
       "      <th>3</th>\n",
       "      <td>0</td>\n",
       "      <td>0.000278</td>\n",
       "      <td>1.158000e-02</td>\n",
       "      <td>-1.264700e-24</td>\n",
       "      <td>4.662800e-03</td>\n",
       "      <td>1.842900e-05</td>\n",
       "      <td>-1.823100e-08</td>\n",
       "    </tr>\n",
       "    <tr>\n",
       "      <th>4</th>\n",
       "      <td>0</td>\n",
       "      <td>0.000493</td>\n",
       "      <td>2.058300e-02</td>\n",
       "      <td>-3.911600e-24</td>\n",
       "      <td>8.281000e-03</td>\n",
       "      <td>5.731000e-05</td>\n",
       "      <td>-1.033400e-07</td>\n",
       "    </tr>\n",
       "    <tr>\n",
       "      <th>...</th>\n",
       "      <td>...</td>\n",
       "      <td>...</td>\n",
       "      <td>...</td>\n",
       "      <td>...</td>\n",
       "      <td>...</td>\n",
       "      <td>...</td>\n",
       "      <td>...</td>\n",
       "    </tr>\n",
       "    <tr>\n",
       "      <th>396</th>\n",
       "      <td>0</td>\n",
       "      <td>1.999500</td>\n",
       "      <td>2.049700e-02</td>\n",
       "      <td>7.117400e-24</td>\n",
       "      <td>8.230900e-03</td>\n",
       "      <td>5.700000e-05</td>\n",
       "      <td>1.027000e-07</td>\n",
       "    </tr>\n",
       "    <tr>\n",
       "      <th>397</th>\n",
       "      <td>0</td>\n",
       "      <td>1.999700</td>\n",
       "      <td>1.153100e-02</td>\n",
       "      <td>-4.540300e-25</td>\n",
       "      <td>4.634600e-03</td>\n",
       "      <td>1.832800e-05</td>\n",
       "      <td>1.812100e-08</td>\n",
       "    </tr>\n",
       "    <tr>\n",
       "      <th>398</th>\n",
       "      <td>0</td>\n",
       "      <td>1.999900</td>\n",
       "      <td>5.125500e-03</td>\n",
       "      <td>2.467800e-25</td>\n",
       "      <td>2.061400e-03</td>\n",
       "      <td>3.661300e-06</td>\n",
       "      <td>1.581000e-09</td>\n",
       "    </tr>\n",
       "    <tr>\n",
       "      <th>399</th>\n",
       "      <td>0</td>\n",
       "      <td>2.000000</td>\n",
       "      <td>1.281500e-03</td>\n",
       "      <td>4.035400e-26</td>\n",
       "      <td>5.155700e-04</td>\n",
       "      <td>2.302200e-07</td>\n",
       "      <td>2.459300e-11</td>\n",
       "    </tr>\n",
       "    <tr>\n",
       "      <th>400</th>\n",
       "      <td>0</td>\n",
       "      <td>2.000000</td>\n",
       "      <td>-7.200700e-16</td>\n",
       "      <td>1.223800e-35</td>\n",
       "      <td>1.967300e-14</td>\n",
       "      <td>7.747600e-17</td>\n",
       "      <td>-1.535600e-35</td>\n",
       "    </tr>\n",
       "  </tbody>\n",
       "</table>\n",
       "<p>401 rows × 7 columns</p>\n",
       "</div>"
      ],
      "text/plain": [
       "     x         y             U             V          urms          vrms  \\\n",
       "0    0  0.000000 -7.184000e-16 -2.267000e-35  1.967500e-14  7.751400e-17   \n",
       "1    0  0.000031  1.286900e-03  3.593100e-26  5.187100e-04  2.314900e-07   \n",
       "2    0  0.000123  5.147100e-03  6.249800e-25  2.074000e-03  3.681500e-06   \n",
       "3    0  0.000278  1.158000e-02 -1.264700e-24  4.662800e-03  1.842900e-05   \n",
       "4    0  0.000493  2.058300e-02 -3.911600e-24  8.281000e-03  5.731000e-05   \n",
       "..  ..       ...           ...           ...           ...           ...   \n",
       "396  0  1.999500  2.049700e-02  7.117400e-24  8.230900e-03  5.700000e-05   \n",
       "397  0  1.999700  1.153100e-02 -4.540300e-25  4.634600e-03  1.832800e-05   \n",
       "398  0  1.999900  5.125500e-03  2.467800e-25  2.061400e-03  3.661300e-06   \n",
       "399  0  2.000000  1.281500e-03  4.035400e-26  5.155700e-04  2.302200e-07   \n",
       "400  0  2.000000 -7.200700e-16  1.223800e-35  1.967300e-14  7.747600e-17   \n",
       "\n",
       "               uv  \n",
       "0    4.814100e-35  \n",
       "1   -2.474000e-11  \n",
       "2   -1.590600e-09  \n",
       "3   -1.823100e-08  \n",
       "4   -1.033400e-07  \n",
       "..            ...  \n",
       "396  1.027000e-07  \n",
       "397  1.812100e-08  \n",
       "398  1.581000e-09  \n",
       "399  2.459300e-11  \n",
       "400 -1.535600e-35  \n",
       "\n",
       "[401 rows x 7 columns]"
      ]
     },
     "execution_count": 9,
     "metadata": {},
     "output_type": "execute_result"
    }
   ],
   "source": [
    "DF"
   ]
  },
  {
   "cell_type": "code",
   "execution_count": 10,
   "metadata": {},
   "outputs": [],
   "source": [
    "import random\n",
    "def Augment_1D_data(DF,Nsampler,L_x):\n",
    "    DF_out=DF[0:0]\n",
    "    for _ in range(Nsampler):\n",
    "        Ny=random.randint(0, len(DF)-1)\n",
    "        DF_temp=DF.iloc[[Ny]]\n",
    "        DF_temp[\"x\"]=random.uniform(0,L_x)\n",
    "        DF_out=pd.concat([DF_out,DF_temp],ignore_index=True)\n",
    "    return DF_out\n",
    "\n",
    "        "
   ]
  },
  {
   "cell_type": "code",
   "execution_count": null,
   "metadata": {},
   "outputs": [],
   "source": []
  },
  {
   "cell_type": "code",
   "execution_count": null,
   "metadata": {},
   "outputs": [],
   "source": [
    "\n"
   ]
  },
  {
   "cell_type": "code",
   "execution_count": null,
   "metadata": {},
   "outputs": [],
   "source": []
  },
  {
   "cell_type": "code",
   "execution_count": null,
   "metadata": {},
   "outputs": [],
   "source": []
  },
  {
   "cell_type": "code",
   "execution_count": 11,
   "metadata": {},
   "outputs": [
    {
     "data": {
      "text/plain": [
       "0"
      ]
     },
     "execution_count": 11,
     "metadata": {},
     "output_type": "execute_result"
    }
   ],
   "source": [
    "torch.cuda.device_count()"
   ]
  },
  {
   "cell_type": "code",
   "execution_count": 12,
   "metadata": {
    "id": "faT14MmHYxgz"
   },
   "outputs": [],
   "source": [
    "X_interval = tp.domains.Interval(X, 0, 4.0) # <-add the bounds of the Interval (0, 2)\n",
    "Y_interval = tp.domains.Interval(Y, -0.2, 2.0)\n",
    "Sim_domain = X_interval*Y_interval\n"
   ]
  },
  {
   "cell_type": "code",
   "execution_count": 13,
   "metadata": {},
   "outputs": [
    {
     "name": "stderr",
     "output_type": "stream",
     "text": [
      "/tmp/ipykernel_2315475/1272658583.py:7: SettingWithCopyWarning: \n",
      "A value is trying to be set on a copy of a slice from a DataFrame.\n",
      "Try using .loc[row_indexer,col_indexer] = value instead\n",
      "\n",
      "See the caveats in the documentation: https://pandas.pydata.org/pandas-docs/stable/user_guide/indexing.html#returning-a-view-versus-a-copy\n",
      "  DF_temp[\"x\"]=random.uniform(0,L_x)\n"
     ]
    }
   ],
   "source": [
    "DF_out=Augment_1D_data(DF_Data,8000,2.0)\n",
    "ho_sampler = tp.samplers.RandomUniformSampler(X_interval, n_points=200)\n",
    "dataset_turbulent=Ho_Turbulent_Data(DF,[\"y\"],[\"U\",\"V\",\"urms\",\"vrms\",\"uv\"],ho_sampler)"
   ]
  },
  {
   "cell_type": "code",
   "execution_count": 14,
   "metadata": {
    "id": "K_9sTcr-Y4N1"
   },
   "outputs": [],
   "source": [
    "\n",
    "bound_sampler_low = tp.samplers.RandomUniformSampler(Y_interval.boundary_left*X_interval, n_points=250)\n",
    "\n",
    "bound_sampler_up = tp.samplers.RandomUniformSampler(X_interval*Y_interval.boundary, n_points=500)\n"
   ]
  },
  {
   "cell_type": "code",
   "execution_count": 15,
   "metadata": {},
   "outputs": [],
   "source": [
    "def IBM_filter(y):\n",
    "    return y[...,0]<0\n",
    "    \n",
    "IBM_sampler = tp.samplers.RandomUniformSampler(Sim_domain,n_points=1000,filter_fn=IBM_filter)"
   ]
  },
  {
   "cell_type": "code",
   "execution_count": 16,
   "metadata": {},
   "outputs": [],
   "source": [
    "def IBM_filter_2(y):\n",
    "    return (y[...,0]<0)&(y[...,0]>-0.1)\n",
    "    \n",
    "IBM_sampler_2 = tp.samplers.RandomUniformSampler(Sim_domain,n_points=1000,filter_fn=IBM_filter_2)"
   ]
  },
  {
   "cell_type": "code",
   "execution_count": 17,
   "metadata": {},
   "outputs": [],
   "source": [
    "def Inner_filter(y):\n",
    "    return y[...,0]>=0\n",
    "\n",
    "inner_sampler = tp.samplers.RandomUniformSampler(Sim_domain, n_points=3000)#,filter_fn=Inner_filter)"
   ]
  },
  {
   "cell_type": "code",
   "execution_count": 18,
   "metadata": {
    "id": "L6uGqqJeZHua"
   },
   "outputs": [],
   "source": [
    "model = tp.models.FCN(input_space=X*Y, output_space=U*V*URMS*VRMS*UV*P, hidden=(64,64,64,64))#######Activation????"
   ]
  },
  {
   "cell_type": "code",
   "execution_count": 19,
   "metadata": {},
   "outputs": [],
   "source": [
    "data_cond = tp.conditions.DataCondition_mean(model, dataset_turbulent, norm=2.0,root=1.0,weight=500,use_full_dataset=True,name='Data')"
   ]
  },
  {
   "cell_type": "code",
   "execution_count": null,
   "metadata": {},
   "outputs": [],
   "source": []
  },
  {
   "cell_type": "code",
   "execution_count": 20,
   "metadata": {},
   "outputs": [],
   "source": [
    "inte_sampler = tp.samplers.RandomUniformSampler(X_interval.boundary*Y_interval, n_points=250)\n",
    "x_inlet_sampler=tp.samplers.RandomUniformSampler(X_interval*Y_interval,n_points=250)"
   ]
  },
  {
   "cell_type": "code",
   "execution_count": 21,
   "metadata": {},
   "outputs": [],
   "source": [
    "def init_bulk(u_integral):\n",
    "    return u_integral-1\n",
    "pde_cond_bulk=tp.conditions.IntegroPINNCondition(model,x_inlet_sampler,init_bulk,inte_sampler, weight=1)"
   ]
  },
  {
   "cell_type": "code",
   "execution_count": 22,
   "metadata": {},
   "outputs": [],
   "source": [
    "def pde_IBM(u,v):\n",
    "    return torch.sqrt(torch.square(u)+torch.square(v))\n",
    "pde_cond_IBM = tp.conditions.PINNCondition(model, IBM_sampler, pde_IBM,weight=10,name='IBM')"
   ]
  },
  {
   "cell_type": "code",
   "execution_count": 23,
   "metadata": {},
   "outputs": [],
   "source": [
    "def pde_IBM_2(u,v):\n",
    "    return torch.sqrt(torch.square(u)+torch.square(v))\n",
    "pde_cond_IBM_2 = tp.conditions.PINNCondition(model, IBM_sampler_2, pde_IBM_2,weight=10,name='IBM_2')"
   ]
  },
  {
   "cell_type": "code",
   "execution_count": 24,
   "metadata": {},
   "outputs": [],
   "source": [
    "def pde_mass(u,v,x,y):\n",
    "    return tp.utils.grad(u,x)+tp.utils.grad(v,y)-0.0\n",
    "pde_cond_mass = tp.conditions.PINNCondition(model, inner_sampler,pde_mass, weight=600,name='Conti')"
   ]
  },
  {
   "cell_type": "code",
   "execution_count": 25,
   "metadata": {
    "id": "47K8sMw3Zdlp"
   },
   "outputs": [],
   "source": [
    "def pde_residual_x(u,v, x, y,urms,vrms,uv,p):\n",
    "    residual_momentum= u*tp.utils.grad(u,x)+ v*tp.utils.grad(u,y)+(-tp.utils.laplacian(u, x)-tp.utils.laplacian(u,y))/6000 + (1/12)**2+tp.utils.grad(torch.square(urms),x)+tp.utils.grad(uv,y)+tp.utils.grad(p,x)\n",
    "    return residual_momentum\n",
    "\n",
    "pde_cond_x = tp.conditions.PINNCondition(model, inner_sampler, pde_residual_x, pde_IBM,weight=600,name='Momentum_x')"
   ]
  },
  {
   "cell_type": "code",
   "execution_count": 26,
   "metadata": {},
   "outputs": [],
   "source": [
    "def pde_residual_y(u,v, x, y,urms,vrms,uv,p):\n",
    "    residual_momentum= u*tp.utils.grad(v,x)+v*tp.utils.grad(v,y)+(-tp.utils.laplacian(v, x)-tp.utils.laplacian(v,y))/6000+tp.utils.grad(uv,x)+tp.utils.grad(torch.square(vrms),y)+tp.utils.grad(p,y)\n",
    "    return residual_momentum\n",
    "\n",
    "pde_cond_y = tp.conditions.PINNCondition(model, inner_sampler, pde_residual_y, pde_IBM,weight=600,name='Momentum_y')"
   ]
  },
  {
   "cell_type": "code",
   "execution_count": 27,
   "metadata": {
    "id": "CnwDibxAZgVR"
   },
   "outputs": [],
   "source": [
    "def boundary_residual_x(u, x,y):\n",
    "    return torch.square(u) - 0.0\n",
    "\n",
    "boundary_cond_x = tp.conditions.PINNCondition(model, bound_sampler_up, boundary_residual_x, weight=100,name='noslip_x')"
   ]
  },
  {
   "cell_type": "code",
   "execution_count": 28,
   "metadata": {},
   "outputs": [],
   "source": [
    "def boundary_residual_y(v, x,y):\n",
    "    return torch.square(v) - 0.0\n",
    "\n",
    "boundary_cond_y = tp.conditions.PINNCondition(model, bound_sampler_up, boundary_residual_y, weight=100,name='noslip_y')"
   ]
  },
  {
   "cell_type": "code",
   "execution_count": 29,
   "metadata": {},
   "outputs": [],
   "source": [
    "def boundary_residual_uu(urms, x,y):\n",
    "    return torch.square(urms) - 0.0\n",
    "\n",
    "boundary_cond_uu = tp.conditions.PINNCondition(model, bound_sampler_up, boundary_residual_uu, weight=100,name='noslip_x_uu')"
   ]
  },
  {
   "cell_type": "code",
   "execution_count": 30,
   "metadata": {},
   "outputs": [],
   "source": [
    "def boundary_residual_vv(vrms, x,y):\n",
    "    return torch.square(vrms) - 0.0\n",
    "\n",
    "boundary_cond_vv = tp.conditions.PINNCondition(model, bound_sampler_up, boundary_residual_vv, weight=100,name='noslip_x_vv')"
   ]
  },
  {
   "cell_type": "code",
   "execution_count": 31,
   "metadata": {},
   "outputs": [],
   "source": [
    "def boundary_residual_uv(uv, x,y):\n",
    "    return uv - 0.0\n",
    "\n",
    "boundary_cond_uv = tp.conditions.PINNCondition(model, bound_sampler_up, boundary_residual_uv, weight=100,name='noslip_x_uv')"
   ]
  },
  {
   "cell_type": "code",
   "execution_count": 32,
   "metadata": {},
   "outputs": [],
   "source": [
    "\n",
    "Periodic_sampler=tp.samplers.RandomUniformSampler(Y_interval,n_points=250)#,filter_fn=Inner_filter)"
   ]
  },
  {
   "cell_type": "code",
   "execution_count": 33,
   "metadata": {},
   "outputs": [],
   "source": [
    "def periodic_residual_x(u_left,u_right):\n",
    "    Periodic_condition= u_left - u_right\n",
    "    return Periodic_condition\n",
    "periodic_cond_x=tp.conditions.PeriodicCondition(model,X_interval,periodic_residual_x,non_periodic_sampler=Periodic_sampler, weight=1,name='periodic_x')"
   ]
  },
  {
   "cell_type": "code",
   "execution_count": 34,
   "metadata": {},
   "outputs": [],
   "source": [
    "def periodic_residual_y(v_left,v_right):\n",
    "    Periodic_condition= v_left - v_right\n",
    "    return Periodic_condition\n",
    "periodic_cond_y=tp.conditions.PeriodicCondition(model,X_interval,periodic_residual_y,non_periodic_sampler=Periodic_sampler, weight=1,name='periodic_y')"
   ]
  },
  {
   "cell_type": "code",
   "execution_count": 35,
   "metadata": {},
   "outputs": [],
   "source": [
    "def periodic_residual_uu(urms_left,urms_right):\n",
    "    Periodic_condition= urms_left - urms_right\n",
    "    return Periodic_condition\n",
    "periodic_cond_uu=tp.conditions.PeriodicCondition(model,X_interval,periodic_residual_uu,non_periodic_sampler=Periodic_sampler, weight=1,name='periodic_uu')"
   ]
  },
  {
   "cell_type": "code",
   "execution_count": 36,
   "metadata": {},
   "outputs": [],
   "source": [
    "def periodic_residual_vv(vrms_left,vrms_right):\n",
    "    Periodic_condition= vrms_left - vrms_right\n",
    "    return Periodic_condition\n",
    "periodic_cond_vv=tp.conditions.PeriodicCondition(model,X_interval,periodic_residual_vv,non_periodic_sampler=Periodic_sampler, weight=1,name='periodic_vv')"
   ]
  },
  {
   "cell_type": "code",
   "execution_count": 37,
   "metadata": {},
   "outputs": [],
   "source": [
    "def periodic_residual_uv(uv_left,uv_right):\n",
    "    Periodic_condition= uv_left - uv_right\n",
    "    return Periodic_condition\n",
    "periodic_cond_uv=tp.conditions.PeriodicCondition(model,X_interval,periodic_residual_uv,non_periodic_sampler=Periodic_sampler, weight=1,name='periodic_uv')"
   ]
  },
  {
   "cell_type": "code",
   "execution_count": 38,
   "metadata": {},
   "outputs": [],
   "source": [
    "def periodic_residual_p(p_left,p_right):\n",
    "    Periodic_condition= p_left-p_right\n",
    "    return Periodic_condition\n",
    "periodic_cond_p=tp.conditions.PeriodicCondition(model,X_interval,periodic_residual_p,non_periodic_sampler=Periodic_sampler, weight=1,name='periodic_p')"
   ]
  },
  {
   "cell_type": "code",
   "execution_count": 39,
   "metadata": {},
   "outputs": [],
   "source": [
    "bound_sampler_left = tp.samplers.RandomUniformSampler(X_interval.boundary_left*Y_interval, n_points=250)\n",
    "def boundary_residual_p(p, x,y):\n",
    "    return p\n",
    "\n",
    "boundary_cond_p = tp.conditions.PINNCondition(model, bound_sampler_left, boundary_residual_p, weight=1,name='bound_p')"
   ]
  },
  {
   "cell_type": "code",
   "execution_count": 40,
   "metadata": {
    "id": "zgt3JneHZ2JB"
   },
   "outputs": [],
   "source": [
    "##Learning rate scheduling To-Do -- launch LR scheduling only after first training phase\n",
    "optim = tp.OptimizerSetting(torch.optim.Adam, lr=0.001,scheduler_class=torch.optim.lr_scheduler.ReduceLROnPlateau,scheduler_args={\"patience\":1000,\"factor\":0.8,\"verbose\":True,\"min_lr\":0.000005},monitor_lr=\"train/loss\")\n",
    "#solver = tp.solver.Solver([pde_cond_IBM,pde_cond_mass,boundary_cond_x, pde_cond_x,periodic_cond_x,boundary_cond_y, pde_cond_y,periodic_cond_y], optimizer_setting=optim)\n",
    "##loss terms scheduling\n",
    "solver = tp.solver.Solver([pde_cond_IBM,#1000\n",
    "                           pde_cond_IBM_2,#1000\n",
    "                            data_cond,\n",
    "                           boundary_cond_x,#1000\n",
    "                           boundary_cond_y,\n",
    "                           boundary_cond_uu,#1000\n",
    "                           boundary_cond_vv,\n",
    "                           boundary_cond_uv,\n",
    "                           boundary_cond_p,\n",
    "                           periodic_cond_x,#2000\n",
    "                           periodic_cond_y,\n",
    "                           periodic_cond_uu,#2000\n",
    "                           periodic_cond_vv,\n",
    "                           periodic_cond_uv,\n",
    "                           periodic_cond_p,\n",
    "                           pde_cond_x,#5000\n",
    "                           pde_cond_y,#5000\n",
    "                           pde_cond_mass],#1000\n",
    "                          optimizer_setting=optim,\n",
    "                         loss_function_schedule=[{\n",
    "                        \"conditions\":list(range(17)),\n",
    "                        \"max_iter\":50000\n",
    "                    },\n",
    "                     {\n",
    "                        \"conditions\":[0,1,2,3,4,5],\n",
    "                        \"max_iter\":10000\n",
    "                    }\n",
    "                ],\n",
    "                          weight_tunning=True,\n",
    "                          weight_tunning_parameters={\n",
    "                                    \"alfa\":0.99,\n",
    "                                    \"E_rho\":0.99,\n",
    "                                    \"Temperature\":0.1,\n",
    "                                    \"tunning_every_n_steps\":100\n",
    "                          } ## Default weight-tunning settings\n",
    "                         )"
   ]
  },
  {
   "cell_type": "code",
   "execution_count": null,
   "metadata": {},
   "outputs": [],
   "source": []
  },
  {
   "cell_type": "code",
   "execution_count": 41,
   "metadata": {
    "scrolled": true
   },
   "outputs": [
    {
     "name": "stderr",
     "output_type": "stream",
     "text": [
      "/net/istmhome/users/hi224/Dokumente/Python/TorchPhysics/TP/lib/python3.8/site-packages/pytorch_lightning/trainer/connectors/accelerator_connector.py:478: LightningDeprecationWarning: Setting `Trainer(gpus=0)` is deprecated in v1.7 and will be removed in v2.0. Please use `Trainer(accelerator='gpu', devices=0)` instead.\n",
      "  rank_zero_deprecation(\n",
      "GPU available: False, used: False\n",
      "TPU available: False, using: 0 TPU cores\n",
      "IPU available: False, using: 0 IPUs\n",
      "HPU available: False, using: 0 HPUs\n",
      "/net/istmhome/users/hi224/Dokumente/Python/TorchPhysics/TP/lib/python3.8/site-packages/pytorch_lightning/core/optimizer.py:273: RuntimeWarning: Found unsupported keys in the lr scheduler dict: {'min_lr', 'factor', 'verbose', 'patience'}. HINT: remove them from the output of `configure_optimizers`.\n",
      "  rank_zero_warn(\n",
      "\n",
      "  | Name             | Type       | Params\n",
      "------------------------------------------------\n",
      "0 | train_conditions | ModuleList | 13.1 K\n",
      "1 | val_conditions   | ModuleList | 0     \n",
      "------------------------------------------------\n",
      "13.1 K    Trainable params\n",
      "0         Non-trainable params\n",
      "13.1 K    Total params\n",
      "0.052     Total estimated model params size (MB)\n"
     ]
    },
    {
     "name": "stdout",
     "output_type": "stream",
     "text": [
      "                                                                                                    "
     ]
    },
    {
     "name": "stderr",
     "output_type": "stream",
     "text": [
      "/net/istmhome/users/hi224/Dokumente/Python/TorchPhysics/TP/lib/python3.8/site-packages/pytorch_lightning/trainer/connectors/data_connector.py:224: PossibleUserWarning: The dataloader, val_dataloader 0, does not have many workers which may be a bottleneck. Consider increasing the value of the `num_workers` argument` (try 24 which is the number of cpus on this machine) in the `DataLoader` init to improve performance.\n",
      "  rank_zero_warn(\n",
      "/net/istmhome/users/hi224/Dokumente/Python/TorchPhysics/TP/lib/python3.8/site-packages/pytorch_lightning/trainer/connectors/data_connector.py:224: PossibleUserWarning: The dataloader, train_dataloader, does not have many workers which may be a bottleneck. Consider increasing the value of the `num_workers` argument` (try 24 which is the number of cpus on this machine) in the `DataLoader` init to improve performance.\n",
      "  rank_zero_warn(\n"
     ]
    },
    {
     "name": "stdout",
     "output_type": "stream",
     "text": [
      "Epoch 0:   0%|                                                            | 0/20001 [00:00<?, ?it/s]"
     ]
    },
    {
     "name": "stderr",
     "output_type": "stream",
     "text": [
      "/net/istmhome/users/hi224/Dokumente/Python/TorchPhysics/TP/lib/python3.8/site-packages/torchphysics/problem/spaces/points.py:31: UserWarning: Creating a tensor from a list of numpy.ndarrays is extremely slow. Please consider converting the list to a single numpy.ndarray with numpy.array() before converting to a tensor. (Triggered internally at ../torch/csrc/utils/tensor_new.cpp:230.)\n",
      "  self._t = torch.as_tensor(data, **kwargs)\n"
     ]
    },
    {
     "name": "stdout",
     "output_type": "stream",
     "text": [
      "Epoch 0:  13%|███▍                      | 2611/20001 [33:21<3:42:13,  1.30it/s, loss=3.73, v_num=39]"
     ]
    },
    {
     "name": "stderr",
     "output_type": "stream",
     "text": [
      "/net/istmhome/users/hi224/Dokumente/Python/TorchPhysics/TP/lib/python3.8/site-packages/pytorch_lightning/trainer/call.py:48: UserWarning: Detected KeyboardInterrupt, attempting graceful shutdown...\n",
      "  rank_zero_warn(\"Detected KeyboardInterrupt, attempting graceful shutdown...\")\n"
     ]
    }
   ],
   "source": [
    "import pytorch_lightning as pl\n",
    "from pytorch_lightning import loggers as pl_loggers\n",
    "torch.set_float32_matmul_precision('medium')\n",
    "comet_logger = pl_loggers.CSVLogger(save_dir=\"logs/\")\n",
    "trainer = pl.Trainer(gpus=0,# use one GPU\n",
    "                     max_steps=20000, # iteration number\n",
    "                     benchmark=True, # faster if input batch has constant size\n",
    "                     logger=comet_logger, # for writting into tensorboard\n",
    "                     log_every_n_steps=100,\n",
    "                     enable_checkpointing=False) # saving checkpoints ToDo: turn on checkpointing after first training phase\n",
    "trainer.fit(solver)"
   ]
  },
  {
   "cell_type": "code",
   "execution_count": null,
   "metadata": {},
   "outputs": [],
   "source": []
  },
  {
   "cell_type": "code",
   "execution_count": 42,
   "metadata": {},
   "outputs": [],
   "source": [
    "import numpy as np"
   ]
  },
  {
   "cell_type": "code",
   "execution_count": 43,
   "metadata": {},
   "outputs": [],
   "source": [
    "import matplotlib.pyplot as plt"
   ]
  },
  {
   "cell_type": "code",
   "execution_count": 44,
   "metadata": {},
   "outputs": [],
   "source": [
    "plt.close()"
   ]
  },
  {
   "cell_type": "code",
   "execution_count": 45,
   "metadata": {},
   "outputs": [],
   "source": [
    "def produce_sample(x_max,y_max,other_Constrains,resolution=100):\n",
    "    list_x=np.linspace(0,x_max,resolution)\n",
    "    list_y=np.linspace(-0.2,y_max,resolution)\n",
    "    XM,YM=np.meshgrid(list_x,list_y)\n",
    "    model_value_x=np.zeros(XM.shape)\n",
    "    model_value_y=np.zeros(XM.shape)    \n",
    "    model_value_urms=np.zeros(XM.shape)\n",
    "    model_value_p=np.zeros(XM.shape)\n",
    "    for i in range(len(list_x)):\n",
    "        for j in range(len(list_y)):\n",
    "            coords = torch.tensor([[list_x[i],list_y[j]]], dtype=torch.float32)\n",
    "            model_value_x[i,j] = model(tp.spaces.Points(coords, X*Y)).as_tensor[0,0]\n",
    "            model_value_y[i,j] = model(tp.spaces.Points(coords, X*Y)).as_tensor[0,1]\n",
    "            model_value_urms[i,j] = model(tp.spaces.Points(coords, X*Y)).as_tensor[0,2]\n",
    "            model_value_p[i,j] = model(tp.spaces.Points(coords, X*Y)).as_tensor[0,5]\n",
    "    plt.contourf(XM,YM,model_value_urms)\n",
    "    plt.colorbar()\n",
    "    plt.plot([0.4,0.4],[0,2])\n",
    "    return model_value_x\n"
   ]
  },
  {
   "cell_type": "code",
   "execution_count": 46,
   "metadata": {},
   "outputs": [
    {
     "data": {
      "image/png": "[encoded data removed]",
      "text/plain": [
       "<Figure size 640x480 with 2 Axes>"
      ]
     },
     "metadata": {},
     "output_type": "display_data"
    }
   ],
   "source": [
    "model_values=produce_sample(2,2,500)\n"
   ]
  },
  {
   "cell_type": "code",
   "execution_count": 47,
   "metadata": {},
   "outputs": [
    {
     "data": {
      "image/png": "[encoded data removed]",
      "text/plain": [
       "<Figure size 640x480 with 2 Axes>"
      ]
     },
     "metadata": {},
     "output_type": "display_data"
    }
   ],
   "source": [
    "model_values=produce_sample(2,2,100)\n"
   ]
  },
  {
   "cell_type": "code",
   "execution_count": 48,
   "metadata": {},
   "outputs": [
    {
     "data": {
      "image/png": "[encoded data removed]",
      "text/plain": [
       "<Figure size 640x480 with 1 Axes>"
      ]
     },
     "metadata": {},
     "output_type": "display_data"
    }
   ],
   "source": [
    "for j in np.linspace(0,2,10):\n",
    "    coords = torch.tensor([[j,i] for i in np.linspace(0,2,100)], dtype=torch.float32)\n",
    "    model_out = model(tp.spaces.Points(coords, X*Y)).as_tensor\n",
    "    for k in range(2,5):\n",
    "        plt.plot(np.linspace(0,2,100),np.array(model_out.transpose(0,1)[k].tolist()))\n",
    "    #plt.plot([0.4,0.4],[0.1,-0.1])"
   ]
  },
  {
   "cell_type": "code",
   "execution_count": 49,
   "metadata": {},
   "outputs": [
    {
     "data": {
      "image/png": "[encoded data removed]",
      "text/plain": [
       "<Figure size 640x480 with 1 Axes>"
      ]
     },
     "metadata": {},
     "output_type": "display_data"
    }
   ],
   "source": [
    "coords = torch.tensor([[0,i] for i in np.linspace(0,2,100)], dtype=torch.float32)\n",
    "model_out = model(tp.spaces.Points(coords, X*Y)).as_tensor\n",
    "for k in range(2,5):\n",
    "    plt.plot(np.linspace(0,2,100),np.array(model_out.transpose(0,1)[k].tolist()))\n",
    "    #plt.plot([0.4,0.4],[0.1,-0.1])"
   ]
  },
  {
   "cell_type": "code",
   "execution_count": 50,
   "metadata": {},
   "outputs": [
    {
     "data": {
      "text/plain": [
       "[<matplotlib.lines.Line2D at 0x7f99e407a490>]"
      ]
     },
     "execution_count": 50,
     "metadata": {},
     "output_type": "execute_result"
    },
    {
     "data": {
      "image/png": "[encoded data removed]",
      "text/plain": [
       "<Figure size 640x480 with 1 Axes>"
      ]
     },
     "metadata": {},
     "output_type": "display_data"
    }
   ],
   "source": [
    "coords = torch.tensor([[1,i] for i in DF_Data[\"y\"]], dtype=torch.float32)\n",
    "model_out = model(tp.spaces.Points(coords, X*Y)).as_tensor\n",
    "for k in range(2,5):\n",
    "    plt.plot(DF_Data[\"y\"],np.abs((np.array(model_out.transpose(0,1)[k].tolist()))))\n",
    "    #plt.plot([0.4,0.4],[0.1,-0.1])\n",
    "plt.plot(DF_Data[\"y\"],DF_Data[\"urms\"],'--')\n",
    "plt.plot(DF_Data[\"y\"],DF_Data[\"vrms\"],'--')\n",
    "plt.plot(DF_Data[\"y\"],DF_Data[\"uv\"],'--')"
   ]
  },
  {
   "cell_type": "code",
   "execution_count": 51,
   "metadata": {},
   "outputs": [
    {
     "data": {
      "text/plain": [
       "[<matplotlib.lines.Line2D at 0x7f99dc69da30>]"
      ]
     },
     "execution_count": 51,
     "metadata": {},
     "output_type": "execute_result"
    },
    {
     "data": {
      "image/png": "[encoded data removed]",
      "text/plain": [
       "<Figure size 640x480 with 1 Axes>"
      ]
     },
     "metadata": {},
     "output_type": "display_data"
    }
   ],
   "source": [
    "coords = torch.tensor([[1,i] for i in DF_Data[\"y\"]], dtype=torch.float32)\n",
    "model_out = model(tp.spaces.Points(coords, X*Y)).as_tensor\n",
    "for k in range(0,2):\n",
    "    plt.plot(DF_Data[\"y\"],np.array(model_out.transpose(0,1)[k].tolist()))\n",
    "    #plt.plot([0.4,0.4],[0.1,-0.1])\n",
    "plt.plot(DF_Data[\"y\"],DF_Data[\"U\"],'--')\n",
    "plt.plot(DF_Data[\"y\"],DF_Data[\"V\"],'--')\n"
   ]
  },
  {
   "cell_type": "code",
   "execution_count": 52,
   "metadata": {},
   "outputs": [
    {
     "data": {
      "text/html": [
       "<div>\n",
       "<style scoped>\n",
       "    .dataframe tbody tr th:only-of-type {\n",
       "        vertical-align: middle;\n",
       "    }\n",
       "\n",
       "    .dataframe tbody tr th {\n",
       "        vertical-align: top;\n",
       "    }\n",
       "\n",
       "    .dataframe thead th {\n",
       "        text-align: right;\n",
       "    }\n",
       "</style>\n",
       "<table border=\"1\" class=\"dataframe\">\n",
       "  <thead>\n",
       "    <tr style=\"text-align: right;\">\n",
       "      <th></th>\n",
       "      <th>x</th>\n",
       "      <th>y</th>\n",
       "      <th>U</th>\n",
       "      <th>V</th>\n",
       "      <th>urms</th>\n",
       "      <th>vrms</th>\n",
       "      <th>uv</th>\n",
       "    </tr>\n",
       "  </thead>\n",
       "  <tbody>\n",
       "    <tr>\n",
       "      <th>0</th>\n",
       "      <td>0</td>\n",
       "      <td>0.000000</td>\n",
       "      <td>-7.184000e-16</td>\n",
       "      <td>-2.267000e-35</td>\n",
       "      <td>1.967500e-14</td>\n",
       "      <td>7.751400e-17</td>\n",
       "      <td>4.814100e-35</td>\n",
       "    </tr>\n",
       "    <tr>\n",
       "      <th>1</th>\n",
       "      <td>0</td>\n",
       "      <td>0.000031</td>\n",
       "      <td>1.286900e-03</td>\n",
       "      <td>3.593100e-26</td>\n",
       "      <td>5.187100e-04</td>\n",
       "      <td>2.314900e-07</td>\n",
       "      <td>-2.474000e-11</td>\n",
       "    </tr>\n",
       "    <tr>\n",
       "      <th>2</th>\n",
       "      <td>0</td>\n",
       "      <td>0.000123</td>\n",
       "      <td>5.147100e-03</td>\n",
       "      <td>6.249800e-25</td>\n",
       "      <td>2.074000e-03</td>\n",
       "      <td>3.681500e-06</td>\n",
       "      <td>-1.590600e-09</td>\n",
       "    </tr>\n",
       "    <tr>\n",
       "      <th>3</th>\n",
       "      <td>0</td>\n",
       "      <td>0.000278</td>\n",
       "      <td>1.158000e-02</td>\n",
       "      <td>-1.264700e-24</td>\n",
       "      <td>4.662800e-03</td>\n",
       "      <td>1.842900e-05</td>\n",
       "      <td>-1.823100e-08</td>\n",
       "    </tr>\n",
       "    <tr>\n",
       "      <th>4</th>\n",
       "      <td>0</td>\n",
       "      <td>0.000493</td>\n",
       "      <td>2.058300e-02</td>\n",
       "      <td>-3.911600e-24</td>\n",
       "      <td>8.281000e-03</td>\n",
       "      <td>5.731000e-05</td>\n",
       "      <td>-1.033400e-07</td>\n",
       "    </tr>\n",
       "    <tr>\n",
       "      <th>...</th>\n",
       "      <td>...</td>\n",
       "      <td>...</td>\n",
       "      <td>...</td>\n",
       "      <td>...</td>\n",
       "      <td>...</td>\n",
       "      <td>...</td>\n",
       "      <td>...</td>\n",
       "    </tr>\n",
       "    <tr>\n",
       "      <th>396</th>\n",
       "      <td>0</td>\n",
       "      <td>1.999500</td>\n",
       "      <td>2.049700e-02</td>\n",
       "      <td>7.117400e-24</td>\n",
       "      <td>8.230900e-03</td>\n",
       "      <td>5.700000e-05</td>\n",
       "      <td>1.027000e-07</td>\n",
       "    </tr>\n",
       "    <tr>\n",
       "      <th>397</th>\n",
       "      <td>0</td>\n",
       "      <td>1.999700</td>\n",
       "      <td>1.153100e-02</td>\n",
       "      <td>-4.540300e-25</td>\n",
       "      <td>4.634600e-03</td>\n",
       "      <td>1.832800e-05</td>\n",
       "      <td>1.812100e-08</td>\n",
       "    </tr>\n",
       "    <tr>\n",
       "      <th>398</th>\n",
       "      <td>0</td>\n",
       "      <td>1.999900</td>\n",
       "      <td>5.125500e-03</td>\n",
       "      <td>2.467800e-25</td>\n",
       "      <td>2.061400e-03</td>\n",
       "      <td>3.661300e-06</td>\n",
       "      <td>1.581000e-09</td>\n",
       "    </tr>\n",
       "    <tr>\n",
       "      <th>399</th>\n",
       "      <td>0</td>\n",
       "      <td>2.000000</td>\n",
       "      <td>1.281500e-03</td>\n",
       "      <td>4.035400e-26</td>\n",
       "      <td>5.155700e-04</td>\n",
       "      <td>2.302200e-07</td>\n",
       "      <td>2.459300e-11</td>\n",
       "    </tr>\n",
       "    <tr>\n",
       "      <th>400</th>\n",
       "      <td>0</td>\n",
       "      <td>2.000000</td>\n",
       "      <td>-7.200700e-16</td>\n",
       "      <td>1.223800e-35</td>\n",
       "      <td>1.967300e-14</td>\n",
       "      <td>7.747600e-17</td>\n",
       "      <td>-1.535600e-35</td>\n",
       "    </tr>\n",
       "  </tbody>\n",
       "</table>\n",
       "<p>401 rows × 7 columns</p>\n",
       "</div>"
      ],
      "text/plain": [
       "     x         y             U             V          urms          vrms  \\\n",
       "0    0  0.000000 -7.184000e-16 -2.267000e-35  1.967500e-14  7.751400e-17   \n",
       "1    0  0.000031  1.286900e-03  3.593100e-26  5.187100e-04  2.314900e-07   \n",
       "2    0  0.000123  5.147100e-03  6.249800e-25  2.074000e-03  3.681500e-06   \n",
       "3    0  0.000278  1.158000e-02 -1.264700e-24  4.662800e-03  1.842900e-05   \n",
       "4    0  0.000493  2.058300e-02 -3.911600e-24  8.281000e-03  5.731000e-05   \n",
       "..  ..       ...           ...           ...           ...           ...   \n",
       "396  0  1.999500  2.049700e-02  7.117400e-24  8.230900e-03  5.700000e-05   \n",
       "397  0  1.999700  1.153100e-02 -4.540300e-25  4.634600e-03  1.832800e-05   \n",
       "398  0  1.999900  5.125500e-03  2.467800e-25  2.061400e-03  3.661300e-06   \n",
       "399  0  2.000000  1.281500e-03  4.035400e-26  5.155700e-04  2.302200e-07   \n",
       "400  0  2.000000 -7.200700e-16  1.223800e-35  1.967300e-14  7.747600e-17   \n",
       "\n",
       "               uv  \n",
       "0    4.814100e-35  \n",
       "1   -2.474000e-11  \n",
       "2   -1.590600e-09  \n",
       "3   -1.823100e-08  \n",
       "4   -1.033400e-07  \n",
       "..            ...  \n",
       "396  1.027000e-07  \n",
       "397  1.812100e-08  \n",
       "398  1.581000e-09  \n",
       "399  2.459300e-11  \n",
       "400 -1.535600e-35  \n",
       "\n",
       "[401 rows x 7 columns]"
      ]
     },
     "execution_count": 52,
     "metadata": {},
     "output_type": "execute_result"
    }
   ],
   "source": [
    "DF_Data"
   ]
  },
  {
   "cell_type": "code",
   "execution_count": null,
   "metadata": {},
   "outputs": [],
   "source": []
  },
  {
   "cell_type": "code",
   "execution_count": null,
   "metadata": {},
   "outputs": [],
   "source": []
  },
  {
   "cell_type": "code",
   "execution_count": null,
   "metadata": {},
   "outputs": [],
   "source": []
  },
  {
   "cell_type": "code",
   "execution_count": 53,
   "metadata": {},
   "outputs": [
    {
     "ename": "NameError",
     "evalue": "name 'H' is not defined",
     "output_type": "error",
     "traceback": [
      "\u001b[0;31m---------------------------------------------------------------------------\u001b[0m",
      "\u001b[0;31mNameError\u001b[0m                                 Traceback (most recent call last)",
      "Cell \u001b[0;32mIn[53], line 3\u001b[0m\n\u001b[1;32m      1\u001b[0m \u001b[38;5;28;01mfor\u001b[39;00m j \u001b[38;5;129;01min\u001b[39;00m np\u001b[38;5;241m.\u001b[39mlinspace(\u001b[38;5;241m0\u001b[39m,\u001b[38;5;241m2\u001b[39m,\u001b[38;5;241m10\u001b[39m):\n\u001b[1;32m      2\u001b[0m     coords \u001b[38;5;241m=\u001b[39m torch\u001b[38;5;241m.\u001b[39mtensor([[j,i,\u001b[38;5;241m20\u001b[39m] \u001b[38;5;28;01mfor\u001b[39;00m i \u001b[38;5;129;01min\u001b[39;00m np\u001b[38;5;241m.\u001b[39mlinspace(\u001b[38;5;241m0\u001b[39m,\u001b[38;5;241m2\u001b[39m,\u001b[38;5;241m100\u001b[39m)], dtype\u001b[38;5;241m=\u001b[39mtorch\u001b[38;5;241m.\u001b[39mfloat32)\n\u001b[0;32m----> 3\u001b[0m     model_out \u001b[38;5;241m=\u001b[39m model(tp\u001b[38;5;241m.\u001b[39mspaces\u001b[38;5;241m.\u001b[39mPoints(coords, X\u001b[38;5;241m*\u001b[39mY\u001b[38;5;241m*\u001b[39m\u001b[43mH\u001b[49m))\u001b[38;5;241m.\u001b[39mas_tensor\n\u001b[1;32m      4\u001b[0m     plt\u001b[38;5;241m.\u001b[39mplot(np\u001b[38;5;241m.\u001b[39mlinspace(\u001b[38;5;241m0\u001b[39m,\u001b[38;5;241m2\u001b[39m,\u001b[38;5;241m100\u001b[39m),np\u001b[38;5;241m.\u001b[39marray(model_out\u001b[38;5;241m.\u001b[39mtranspose(\u001b[38;5;241m0\u001b[39m,\u001b[38;5;241m1\u001b[39m)[\u001b[38;5;241m0\u001b[39m]\u001b[38;5;241m.\u001b[39mtolist()))\n\u001b[1;32m      5\u001b[0m     plt\u001b[38;5;241m.\u001b[39mplot([\u001b[38;5;241m0.3\u001b[39m,\u001b[38;5;241m0.3\u001b[39m],[\u001b[38;5;241m0.1\u001b[39m,\u001b[38;5;241m-\u001b[39m\u001b[38;5;241m0.1\u001b[39m])\n",
      "\u001b[0;31mNameError\u001b[0m: name 'H' is not defined"
     ]
    }
   ],
   "source": [
    "for j in np.linspace(0,2,10):\n",
    "    coords = torch.tensor([[j,i,20] for i in np.linspace(0,2,100)], dtype=torch.float32)\n",
    "    model_out = model(tp.spaces.Points(coords, X*Y*H)).as_tensor\n",
    "    plt.plot(np.linspace(0,2,100),np.array(model_out.transpose(0,1)[0].tolist()))\n",
    "    plt.plot([0.3,0.3],[0.1,-0.1])"
   ]
  },
  {
   "cell_type": "code",
   "execution_count": null,
   "metadata": {},
   "outputs": [],
   "source": [
    "coords = torch.tensor([[5,i] for i in np.linspace(0,2.0,100)], dtype=torch.float32)\n",
    "model_out = model(tp.spaces.Points(coords, X*Y)).as_tensor\n",
    "plt.plot(np.array(model_out.transpose(0,1)[0].tolist()))\n",
    "coords = torch.tensor([[0,i] for i in np.linspace(0,2.0,100)], dtype=torch.float32)\n",
    "model_out = model(tp.spaces.Points(coords, X*Y)).as_tensor\n",
    "plt.plot(np.array(model_out.transpose(0,1)[0].tolist()))"
   ]
  },
  {
   "cell_type": "code",
   "execution_count": null,
   "metadata": {},
   "outputs": [],
   "source": []
  },
  {
   "cell_type": "code",
   "execution_count": null,
   "metadata": {},
   "outputs": [],
   "source": []
  },
  {
   "cell_type": "code",
   "execution_count": null,
   "metadata": {},
   "outputs": [],
   "source": []
  },
  {
   "cell_type": "code",
   "execution_count": null,
   "metadata": {},
   "outputs": [],
   "source": []
  },
  {
   "cell_type": "code",
   "execution_count": null,
   "metadata": {},
   "outputs": [],
   "source": []
  },
  {
   "cell_type": "code",
   "execution_count": null,
   "metadata": {},
   "outputs": [],
   "source": []
  },
  {
   "cell_type": "code",
   "execution_count": null,
   "metadata": {},
   "outputs": [],
   "source": []
  },
  {
   "cell_type": "code",
   "execution_count": null,
   "metadata": {},
   "outputs": [],
   "source": []
  },
  {
   "cell_type": "code",
   "execution_count": null,
   "metadata": {},
   "outputs": [],
   "source": []
  },
  {
   "cell_type": "code",
   "execution_count": null,
   "metadata": {},
   "outputs": [],
   "source": []
  }
 ],
 "metadata": {
  "accelerator": "GPU",
  "colab": {
   "gpuType": "T4",
   "provenance": []
  },
  "kernelspec": {
   "display_name": "myenv",
   "language": "python",
   "name": "myenv"
  },
  "language_info": {
   "codemirror_mode": {
    "name": "ipython",
    "version": 3
   },
   "file_extension": ".py",
   "mimetype": "text/x-python",
   "name": "python",
   "nbconvert_exporter": "python",
   "pygments_lexer": "ipython3",
   "version": "3.8.10"
  },
  "widgets": {
   "application/vnd.jupyter.widget-state+json": {
    "0596c4022b754db396349c408529b39a": {
     "model_module": "@jupyter-widgets/base",
     "model_module_version": "1.2.0",
     "model_name": "LayoutModel",
     "state": {
      "_model_module": "@jupyter-widgets/base",
      "_model_module_version": "1.2.0",
      "_model_name": "LayoutModel",
      "_view_count": null,
      "_view_module": "@jupyter-widgets/base",
      "_view_module_version": "1.2.0",
      "_view_name": "LayoutView",
      "align_content": null,
      "align_items": null,
      "align_self": null,
      "border": null,
      "bottom": null,
      "display": "inline-flex",
      "flex": null,
      "flex_flow": "row wrap",
      "grid_area": null,
      "grid_auto_columns": null,
      "grid_auto_flow": null,
      "grid_auto_rows": null,
      "grid_column": null,
      "grid_gap": null,
      "grid_row": null,
      "grid_template_areas": null,
      "grid_template_columns": null,
      "grid_template_rows": null,
      "height": null,
      "justify_content": null,
      "justify_items": null,
      "left": null,
      "margin": null,
      "max_height": null,
      "max_width": null,
      "min_height": null,
      "min_width": null,
      "object_fit": null,
      "object_position": null,
      "order": null,
      "overflow": null,
      "overflow_x": null,
      "overflow_y": null,
      "padding": null,
      "right": null,
      "top": null,
      "visibility": "hidden",
      "width": "100%"
     }
    },
    "06a43d890f32453eb7b8e7da71f5d4bb": {
     "model_module": "@jupyter-widgets/controls",
     "model_module_version": "1.5.0",
     "model_name": "DescriptionStyleModel",
     "state": {
      "_model_module": "@jupyter-widgets/controls",
      "_model_module_version": "1.5.0",
      "_model_name": "DescriptionStyleModel",
      "_view_count": null,
      "_view_module": "@jupyter-widgets/base",
      "_view_module_version": "1.2.0",
      "_view_name": "StyleView",
      "description_width": ""
     }
    },
    "0eb7d129999f4abc890134f28551781a": {
     "model_module": "@jupyter-widgets/controls",
     "model_module_version": "1.5.0",
     "model_name": "HTMLModel",
     "state": {
      "_dom_classes": [],
      "_model_module": "@jupyter-widgets/controls",
      "_model_module_version": "1.5.0",
      "_model_name": "HTMLModel",
      "_view_count": null,
      "_view_module": "@jupyter-widgets/controls",
      "_view_module_version": "1.5.0",
      "_view_name": "HTMLView",
      "description": "",
      "description_tooltip": null,
      "layout": "IPY_MODEL_5fb4cf6e97d1403ea1ac9506c05ccc03",
      "placeholder": "​",
      "style": "IPY_MODEL_6451ed0ec3ee4d418f03b658c60a48d9",
      "value": "Validation DataLoader 0: 100%"
     }
    },
    "103def06d6434f4a8dcdcf84a48c4e08": {
     "model_module": "@jupyter-widgets/controls",
     "model_module_version": "1.5.0",
     "model_name": "HTMLModel",
     "state": {
      "_dom_classes": [],
      "_model_module": "@jupyter-widgets/controls",
      "_model_module_version": "1.5.0",
      "_model_name": "HTMLModel",
      "_view_count": null,
      "_view_module": "@jupyter-widgets/controls",
      "_view_module_version": "1.5.0",
      "_view_name": "HTMLView",
      "description": "",
      "description_tooltip": null,
      "layout": "IPY_MODEL_7da5216ed5574efe879eb4391b23f900",
      "placeholder": "​",
      "style": "IPY_MODEL_06a43d890f32453eb7b8e7da71f5d4bb",
      "value": " 3001/3001 [00:43&lt;00:00, 69.73it/s, loss=0.000255]"
     }
    },
    "122cd23c57044fb9bb9503b7aac6cd34": {
     "model_module": "@jupyter-widgets/controls",
     "model_module_version": "1.5.0",
     "model_name": "DescriptionStyleModel",
     "state": {
      "_model_module": "@jupyter-widgets/controls",
      "_model_module_version": "1.5.0",
      "_model_name": "DescriptionStyleModel",
      "_view_count": null,
      "_view_module": "@jupyter-widgets/base",
      "_view_module_version": "1.2.0",
      "_view_name": "StyleView",
      "description_width": ""
     }
    },
    "1cb0e2237ddc4857a1b2f8f8cf6d366d": {
     "model_module": "@jupyter-widgets/controls",
     "model_module_version": "1.5.0",
     "model_name": "FloatProgressModel",
     "state": {
      "_dom_classes": [],
      "_model_module": "@jupyter-widgets/controls",
      "_model_module_version": "1.5.0",
      "_model_name": "FloatProgressModel",
      "_view_count": null,
      "_view_module": "@jupyter-widgets/controls",
      "_view_module_version": "1.5.0",
      "_view_name": "ProgressView",
      "bar_style": "success",
      "description": "",
      "description_tooltip": null,
      "layout": "IPY_MODEL_5e3287ced6f04769a756ae031eb84bed",
      "max": 3001,
      "min": 0,
      "orientation": "horizontal",
      "style": "IPY_MODEL_7449c75be87d4b8ca841693e020a99d6",
      "value": 3001
     }
    },
    "2a3f4039db554fbba6849de46c9feb7d": {
     "model_module": "@jupyter-widgets/controls",
     "model_module_version": "1.5.0",
     "model_name": "DescriptionStyleModel",
     "state": {
      "_model_module": "@jupyter-widgets/controls",
      "_model_module_version": "1.5.0",
      "_model_name": "DescriptionStyleModel",
      "_view_count": null,
      "_view_module": "@jupyter-widgets/base",
      "_view_module_version": "1.2.0",
      "_view_name": "StyleView",
      "description_width": ""
     }
    },
    "2d1571180c6c49b89e38c5bb38556704": {
     "model_module": "@jupyter-widgets/base",
     "model_module_version": "1.2.0",
     "model_name": "LayoutModel",
     "state": {
      "_model_module": "@jupyter-widgets/base",
      "_model_module_version": "1.2.0",
      "_model_name": "LayoutModel",
      "_view_count": null,
      "_view_module": "@jupyter-widgets/base",
      "_view_module_version": "1.2.0",
      "_view_name": "LayoutView",
      "align_content": null,
      "align_items": null,
      "align_self": null,
      "border": null,
      "bottom": null,
      "display": null,
      "flex": null,
      "flex_flow": null,
      "grid_area": null,
      "grid_auto_columns": null,
      "grid_auto_flow": null,
      "grid_auto_rows": null,
      "grid_column": null,
      "grid_gap": null,
      "grid_row": null,
      "grid_template_areas": null,
      "grid_template_columns": null,
      "grid_template_rows": null,
      "height": null,
      "justify_content": null,
      "justify_items": null,
      "left": null,
      "margin": null,
      "max_height": null,
      "max_width": null,
      "min_height": null,
      "min_width": null,
      "object_fit": null,
      "object_position": null,
      "order": null,
      "overflow": null,
      "overflow_x": null,
      "overflow_y": null,
      "padding": null,
      "right": null,
      "top": null,
      "visibility": null,
      "width": null
     }
    },
    "41cc5db22b414e1997fe88c9153e6888": {
     "model_module": "@jupyter-widgets/base",
     "model_module_version": "1.2.0",
     "model_name": "LayoutModel",
     "state": {
      "_model_module": "@jupyter-widgets/base",
      "_model_module_version": "1.2.0",
      "_model_name": "LayoutModel",
      "_view_count": null,
      "_view_module": "@jupyter-widgets/base",
      "_view_module_version": "1.2.0",
      "_view_name": "LayoutView",
      "align_content": null,
      "align_items": null,
      "align_self": null,
      "border": null,
      "bottom": null,
      "display": "inline-flex",
      "flex": null,
      "flex_flow": "row wrap",
      "grid_area": null,
      "grid_auto_columns": null,
      "grid_auto_flow": null,
      "grid_auto_rows": null,
      "grid_column": null,
      "grid_gap": null,
      "grid_row": null,
      "grid_template_areas": null,
      "grid_template_columns": null,
      "grid_template_rows": null,
      "height": null,
      "justify_content": null,
      "justify_items": null,
      "left": null,
      "margin": null,
      "max_height": null,
      "max_width": null,
      "min_height": null,
      "min_width": null,
      "object_fit": null,
      "object_position": null,
      "order": null,
      "overflow": null,
      "overflow_x": null,
      "overflow_y": null,
      "padding": null,
      "right": null,
      "top": null,
      "visibility": null,
      "width": "100%"
     }
    },
    "505ef0a22f514bb8a810ebf667f0499c": {
     "model_module": "@jupyter-widgets/base",
     "model_module_version": "1.2.0",
     "model_name": "LayoutModel",
     "state": {
      "_model_module": "@jupyter-widgets/base",
      "_model_module_version": "1.2.0",
      "_model_name": "LayoutModel",
      "_view_count": null,
      "_view_module": "@jupyter-widgets/base",
      "_view_module_version": "1.2.0",
      "_view_name": "LayoutView",
      "align_content": null,
      "align_items": null,
      "align_self": null,
      "border": null,
      "bottom": null,
      "display": null,
      "flex": null,
      "flex_flow": null,
      "grid_area": null,
      "grid_auto_columns": null,
      "grid_auto_flow": null,
      "grid_auto_rows": null,
      "grid_column": null,
      "grid_gap": null,
      "grid_row": null,
      "grid_template_areas": null,
      "grid_template_columns": null,
      "grid_template_rows": null,
      "height": null,
      "justify_content": null,
      "justify_items": null,
      "left": null,
      "margin": null,
      "max_height": null,
      "max_width": null,
      "min_height": null,
      "min_width": null,
      "object_fit": null,
      "object_position": null,
      "order": null,
      "overflow": null,
      "overflow_x": null,
      "overflow_y": null,
      "padding": null,
      "right": null,
      "top": null,
      "visibility": null,
      "width": null
     }
    },
    "53b8ebb34f744673b6d220857ad9cc93": {
     "model_module": "@jupyter-widgets/controls",
     "model_module_version": "1.5.0",
     "model_name": "HTMLModel",
     "state": {
      "_dom_classes": [],
      "_model_module": "@jupyter-widgets/controls",
      "_model_module_version": "1.5.0",
      "_model_name": "HTMLModel",
      "_view_count": null,
      "_view_module": "@jupyter-widgets/controls",
      "_view_module_version": "1.5.0",
      "_view_name": "HTMLView",
      "description": "",
      "description_tooltip": null,
      "layout": "IPY_MODEL_505ef0a22f514bb8a810ebf667f0499c",
      "placeholder": "​",
      "style": "IPY_MODEL_a6fa22463e014fe0af71869a90e33c5f",
      "value": " 1/1 [00:00&lt;00:00, 237.75it/s]"
     }
    },
    "5e3287ced6f04769a756ae031eb84bed": {
     "model_module": "@jupyter-widgets/base",
     "model_module_version": "1.2.0",
     "model_name": "LayoutModel",
     "state": {
      "_model_module": "@jupyter-widgets/base",
      "_model_module_version": "1.2.0",
      "_model_name": "LayoutModel",
      "_view_count": null,
      "_view_module": "@jupyter-widgets/base",
      "_view_module_version": "1.2.0",
      "_view_name": "LayoutView",
      "align_content": null,
      "align_items": null,
      "align_self": null,
      "border": null,
      "bottom": null,
      "display": null,
      "flex": "2",
      "flex_flow": null,
      "grid_area": null,
      "grid_auto_columns": null,
      "grid_auto_flow": null,
      "grid_auto_rows": null,
      "grid_column": null,
      "grid_gap": null,
      "grid_row": null,
      "grid_template_areas": null,
      "grid_template_columns": null,
      "grid_template_rows": null,
      "height": null,
      "justify_content": null,
      "justify_items": null,
      "left": null,
      "margin": null,
      "max_height": null,
      "max_width": null,
      "min_height": null,
      "min_width": null,
      "object_fit": null,
      "object_position": null,
      "order": null,
      "overflow": null,
      "overflow_x": null,
      "overflow_y": null,
      "padding": null,
      "right": null,
      "top": null,
      "visibility": null,
      "width": null
     }
    },
    "5e7bfcbd4dce41199186c5dae97afb0e": {
     "model_module": "@jupyter-widgets/base",
     "model_module_version": "1.2.0",
     "model_name": "LayoutModel",
     "state": {
      "_model_module": "@jupyter-widgets/base",
      "_model_module_version": "1.2.0",
      "_model_name": "LayoutModel",
      "_view_count": null,
      "_view_module": "@jupyter-widgets/base",
      "_view_module_version": "1.2.0",
      "_view_name": "LayoutView",
      "align_content": null,
      "align_items": null,
      "align_self": null,
      "border": null,
      "bottom": null,
      "display": "inline-flex",
      "flex": null,
      "flex_flow": "row wrap",
      "grid_area": null,
      "grid_auto_columns": null,
      "grid_auto_flow": null,
      "grid_auto_rows": null,
      "grid_column": null,
      "grid_gap": null,
      "grid_row": null,
      "grid_template_areas": null,
      "grid_template_columns": null,
      "grid_template_rows": null,
      "height": null,
      "justify_content": null,
      "justify_items": null,
      "left": null,
      "margin": null,
      "max_height": null,
      "max_width": null,
      "min_height": null,
      "min_width": null,
      "object_fit": null,
      "object_position": null,
      "order": null,
      "overflow": null,
      "overflow_x": null,
      "overflow_y": null,
      "padding": null,
      "right": null,
      "top": null,
      "visibility": "hidden",
      "width": "100%"
     }
    },
    "5f50e606f182489cae643b52a8bc5fd5": {
     "model_module": "@jupyter-widgets/controls",
     "model_module_version": "1.5.0",
     "model_name": "ProgressStyleModel",
     "state": {
      "_model_module": "@jupyter-widgets/controls",
      "_model_module_version": "1.5.0",
      "_model_name": "ProgressStyleModel",
      "_view_count": null,
      "_view_module": "@jupyter-widgets/base",
      "_view_module_version": "1.2.0",
      "_view_name": "StyleView",
      "bar_color": null,
      "description_width": ""
     }
    },
    "5fb4cf6e97d1403ea1ac9506c05ccc03": {
     "model_module": "@jupyter-widgets/base",
     "model_module_version": "1.2.0",
     "model_name": "LayoutModel",
     "state": {
      "_model_module": "@jupyter-widgets/base",
      "_model_module_version": "1.2.0",
      "_model_name": "LayoutModel",
      "_view_count": null,
      "_view_module": "@jupyter-widgets/base",
      "_view_module_version": "1.2.0",
      "_view_name": "LayoutView",
      "align_content": null,
      "align_items": null,
      "align_self": null,
      "border": null,
      "bottom": null,
      "display": null,
      "flex": null,
      "flex_flow": null,
      "grid_area": null,
      "grid_auto_columns": null,
      "grid_auto_flow": null,
      "grid_auto_rows": null,
      "grid_column": null,
      "grid_gap": null,
      "grid_row": null,
      "grid_template_areas": null,
      "grid_template_columns": null,
      "grid_template_rows": null,
      "height": null,
      "justify_content": null,
      "justify_items": null,
      "left": null,
      "margin": null,
      "max_height": null,
      "max_width": null,
      "min_height": null,
      "min_width": null,
      "object_fit": null,
      "object_position": null,
      "order": null,
      "overflow": null,
      "overflow_x": null,
      "overflow_y": null,
      "padding": null,
      "right": null,
      "top": null,
      "visibility": null,
      "width": null
     }
    },
    "6451ed0ec3ee4d418f03b658c60a48d9": {
     "model_module": "@jupyter-widgets/controls",
     "model_module_version": "1.5.0",
     "model_name": "DescriptionStyleModel",
     "state": {
      "_model_module": "@jupyter-widgets/controls",
      "_model_module_version": "1.5.0",
      "_model_name": "DescriptionStyleModel",
      "_view_count": null,
      "_view_module": "@jupyter-widgets/base",
      "_view_module_version": "1.2.0",
      "_view_name": "StyleView",
      "description_width": ""
     }
    },
    "717b98e49cbb4831bcccb5bfcd2d79a5": {
     "model_module": "@jupyter-widgets/base",
     "model_module_version": "1.2.0",
     "model_name": "LayoutModel",
     "state": {
      "_model_module": "@jupyter-widgets/base",
      "_model_module_version": "1.2.0",
      "_model_name": "LayoutModel",
      "_view_count": null,
      "_view_module": "@jupyter-widgets/base",
      "_view_module_version": "1.2.0",
      "_view_name": "LayoutView",
      "align_content": null,
      "align_items": null,
      "align_self": null,
      "border": null,
      "bottom": null,
      "display": null,
      "flex": null,
      "flex_flow": null,
      "grid_area": null,
      "grid_auto_columns": null,
      "grid_auto_flow": null,
      "grid_auto_rows": null,
      "grid_column": null,
      "grid_gap": null,
      "grid_row": null,
      "grid_template_areas": null,
      "grid_template_columns": null,
      "grid_template_rows": null,
      "height": null,
      "justify_content": null,
      "justify_items": null,
      "left": null,
      "margin": null,
      "max_height": null,
      "max_width": null,
      "min_height": null,
      "min_width": null,
      "object_fit": null,
      "object_position": null,
      "order": null,
      "overflow": null,
      "overflow_x": null,
      "overflow_y": null,
      "padding": null,
      "right": null,
      "top": null,
      "visibility": null,
      "width": null
     }
    },
    "7449c75be87d4b8ca841693e020a99d6": {
     "model_module": "@jupyter-widgets/controls",
     "model_module_version": "1.5.0",
     "model_name": "ProgressStyleModel",
     "state": {
      "_model_module": "@jupyter-widgets/controls",
      "_model_module_version": "1.5.0",
      "_model_name": "ProgressStyleModel",
      "_view_count": null,
      "_view_module": "@jupyter-widgets/base",
      "_view_module_version": "1.2.0",
      "_view_name": "StyleView",
      "bar_color": null,
      "description_width": ""
     }
    },
    "7da5216ed5574efe879eb4391b23f900": {
     "model_module": "@jupyter-widgets/base",
     "model_module_version": "1.2.0",
     "model_name": "LayoutModel",
     "state": {
      "_model_module": "@jupyter-widgets/base",
      "_model_module_version": "1.2.0",
      "_model_name": "LayoutModel",
      "_view_count": null,
      "_view_module": "@jupyter-widgets/base",
      "_view_module_version": "1.2.0",
      "_view_name": "LayoutView",
      "align_content": null,
      "align_items": null,
      "align_self": null,
      "border": null,
      "bottom": null,
      "display": null,
      "flex": null,
      "flex_flow": null,
      "grid_area": null,
      "grid_auto_columns": null,
      "grid_auto_flow": null,
      "grid_auto_rows": null,
      "grid_column": null,
      "grid_gap": null,
      "grid_row": null,
      "grid_template_areas": null,
      "grid_template_columns": null,
      "grid_template_rows": null,
      "height": null,
      "justify_content": null,
      "justify_items": null,
      "left": null,
      "margin": null,
      "max_height": null,
      "max_width": null,
      "min_height": null,
      "min_width": null,
      "object_fit": null,
      "object_position": null,
      "order": null,
      "overflow": null,
      "overflow_x": null,
      "overflow_y": null,
      "padding": null,
      "right": null,
      "top": null,
      "visibility": null,
      "width": null
     }
    },
    "7ea917bfb0594836b7729ccda3e368fd": {
     "model_module": "@jupyter-widgets/controls",
     "model_module_version": "1.5.0",
     "model_name": "FloatProgressModel",
     "state": {
      "_dom_classes": [],
      "_model_module": "@jupyter-widgets/controls",
      "_model_module_version": "1.5.0",
      "_model_name": "FloatProgressModel",
      "_view_count": null,
      "_view_module": "@jupyter-widgets/controls",
      "_view_module_version": "1.5.0",
      "_view_name": "ProgressView",
      "bar_style": "",
      "description": "",
      "description_tooltip": null,
      "layout": "IPY_MODEL_af105b53fd3544989dac937f13abceb7",
      "max": 1,
      "min": 0,
      "orientation": "horizontal",
      "style": "IPY_MODEL_5f50e606f182489cae643b52a8bc5fd5",
      "value": 1
     }
    },
    "8f9a02cd7be043bf89768ca4f96a084d": {
     "model_module": "@jupyter-widgets/controls",
     "model_module_version": "1.5.0",
     "model_name": "HBoxModel",
     "state": {
      "_dom_classes": [],
      "_model_module": "@jupyter-widgets/controls",
      "_model_module_version": "1.5.0",
      "_model_name": "HBoxModel",
      "_view_count": null,
      "_view_module": "@jupyter-widgets/controls",
      "_view_module_version": "1.5.0",
      "_view_name": "HBoxView",
      "box_style": "",
      "children": [
       "IPY_MODEL_0eb7d129999f4abc890134f28551781a",
       "IPY_MODEL_7ea917bfb0594836b7729ccda3e368fd",
       "IPY_MODEL_53b8ebb34f744673b6d220857ad9cc93"
      ],
      "layout": "IPY_MODEL_5e7bfcbd4dce41199186c5dae97afb0e"
     }
    },
    "a3258c3e45414be9889540ea399dc78b": {
     "model_module": "@jupyter-widgets/controls",
     "model_module_version": "1.5.0",
     "model_name": "FloatProgressModel",
     "state": {
      "_dom_classes": [],
      "_model_module": "@jupyter-widgets/controls",
      "_model_module_version": "1.5.0",
      "_model_name": "FloatProgressModel",
      "_view_count": null,
      "_view_module": "@jupyter-widgets/controls",
      "_view_module_version": "1.5.0",
      "_view_name": "ProgressView",
      "bar_style": "",
      "description": "",
      "description_tooltip": null,
      "layout": "IPY_MODEL_b75c806f29f24ddbbb2b76482ca46991",
      "max": 1,
      "min": 0,
      "orientation": "horizontal",
      "style": "IPY_MODEL_d103b7a673bb4fe295b118c48ab84275",
      "value": 1
     }
    },
    "a6fa22463e014fe0af71869a90e33c5f": {
     "model_module": "@jupyter-widgets/controls",
     "model_module_version": "1.5.0",
     "model_name": "DescriptionStyleModel",
     "state": {
      "_model_module": "@jupyter-widgets/controls",
      "_model_module_version": "1.5.0",
      "_model_name": "DescriptionStyleModel",
      "_view_count": null,
      "_view_module": "@jupyter-widgets/base",
      "_view_module_version": "1.2.0",
      "_view_name": "StyleView",
      "description_width": ""
     }
    },
    "af105b53fd3544989dac937f13abceb7": {
     "model_module": "@jupyter-widgets/base",
     "model_module_version": "1.2.0",
     "model_name": "LayoutModel",
     "state": {
      "_model_module": "@jupyter-widgets/base",
      "_model_module_version": "1.2.0",
      "_model_name": "LayoutModel",
      "_view_count": null,
      "_view_module": "@jupyter-widgets/base",
      "_view_module_version": "1.2.0",
      "_view_name": "LayoutView",
      "align_content": null,
      "align_items": null,
      "align_self": null,
      "border": null,
      "bottom": null,
      "display": null,
      "flex": "2",
      "flex_flow": null,
      "grid_area": null,
      "grid_auto_columns": null,
      "grid_auto_flow": null,
      "grid_auto_rows": null,
      "grid_column": null,
      "grid_gap": null,
      "grid_row": null,
      "grid_template_areas": null,
      "grid_template_columns": null,
      "grid_template_rows": null,
      "height": null,
      "justify_content": null,
      "justify_items": null,
      "left": null,
      "margin": null,
      "max_height": null,
      "max_width": null,
      "min_height": null,
      "min_width": null,
      "object_fit": null,
      "object_position": null,
      "order": null,
      "overflow": null,
      "overflow_x": null,
      "overflow_y": null,
      "padding": null,
      "right": null,
      "top": null,
      "visibility": null,
      "width": null
     }
    },
    "b75c806f29f24ddbbb2b76482ca46991": {
     "model_module": "@jupyter-widgets/base",
     "model_module_version": "1.2.0",
     "model_name": "LayoutModel",
     "state": {
      "_model_module": "@jupyter-widgets/base",
      "_model_module_version": "1.2.0",
      "_model_name": "LayoutModel",
      "_view_count": null,
      "_view_module": "@jupyter-widgets/base",
      "_view_module_version": "1.2.0",
      "_view_name": "LayoutView",
      "align_content": null,
      "align_items": null,
      "align_self": null,
      "border": null,
      "bottom": null,
      "display": null,
      "flex": "2",
      "flex_flow": null,
      "grid_area": null,
      "grid_auto_columns": null,
      "grid_auto_flow": null,
      "grid_auto_rows": null,
      "grid_column": null,
      "grid_gap": null,
      "grid_row": null,
      "grid_template_areas": null,
      "grid_template_columns": null,
      "grid_template_rows": null,
      "height": null,
      "justify_content": null,
      "justify_items": null,
      "left": null,
      "margin": null,
      "max_height": null,
      "max_width": null,
      "min_height": null,
      "min_width": null,
      "object_fit": null,
      "object_position": null,
      "order": null,
      "overflow": null,
      "overflow_x": null,
      "overflow_y": null,
      "padding": null,
      "right": null,
      "top": null,
      "visibility": null,
      "width": null
     }
    },
    "c8d8a13e6371478887b93bc7e39c61f1": {
     "model_module": "@jupyter-widgets/base",
     "model_module_version": "1.2.0",
     "model_name": "LayoutModel",
     "state": {
      "_model_module": "@jupyter-widgets/base",
      "_model_module_version": "1.2.0",
      "_model_name": "LayoutModel",
      "_view_count": null,
      "_view_module": "@jupyter-widgets/base",
      "_view_module_version": "1.2.0",
      "_view_name": "LayoutView",
      "align_content": null,
      "align_items": null,
      "align_self": null,
      "border": null,
      "bottom": null,
      "display": null,
      "flex": null,
      "flex_flow": null,
      "grid_area": null,
      "grid_auto_columns": null,
      "grid_auto_flow": null,
      "grid_auto_rows": null,
      "grid_column": null,
      "grid_gap": null,
      "grid_row": null,
      "grid_template_areas": null,
      "grid_template_columns": null,
      "grid_template_rows": null,
      "height": null,
      "justify_content": null,
      "justify_items": null,
      "left": null,
      "margin": null,
      "max_height": null,
      "max_width": null,
      "min_height": null,
      "min_width": null,
      "object_fit": null,
      "object_position": null,
      "order": null,
      "overflow": null,
      "overflow_x": null,
      "overflow_y": null,
      "padding": null,
      "right": null,
      "top": null,
      "visibility": null,
      "width": null
     }
    },
    "d02dea15914b4c1581cfccd5f9e397f8": {
     "model_module": "@jupyter-widgets/controls",
     "model_module_version": "1.5.0",
     "model_name": "HBoxModel",
     "state": {
      "_dom_classes": [],
      "_model_module": "@jupyter-widgets/controls",
      "_model_module_version": "1.5.0",
      "_model_name": "HBoxModel",
      "_view_count": null,
      "_view_module": "@jupyter-widgets/controls",
      "_view_module_version": "1.5.0",
      "_view_name": "HBoxView",
      "box_style": "",
      "children": [
       "IPY_MODEL_f59a409bd70c4af8847679adcca05c01",
       "IPY_MODEL_1cb0e2237ddc4857a1b2f8f8cf6d366d",
       "IPY_MODEL_103def06d6434f4a8dcdcf84a48c4e08"
      ],
      "layout": "IPY_MODEL_41cc5db22b414e1997fe88c9153e6888"
     }
    },
    "d103b7a673bb4fe295b118c48ab84275": {
     "model_module": "@jupyter-widgets/controls",
     "model_module_version": "1.5.0",
     "model_name": "ProgressStyleModel",
     "state": {
      "_model_module": "@jupyter-widgets/controls",
      "_model_module_version": "1.5.0",
      "_model_name": "ProgressStyleModel",
      "_view_count": null,
      "_view_module": "@jupyter-widgets/base",
      "_view_module_version": "1.2.0",
      "_view_name": "StyleView",
      "bar_color": null,
      "description_width": ""
     }
    },
    "d7ef3e58242b45cfb4b2b76f667dbe22": {
     "model_module": "@jupyter-widgets/controls",
     "model_module_version": "1.5.0",
     "model_name": "HTMLModel",
     "state": {
      "_dom_classes": [],
      "_model_module": "@jupyter-widgets/controls",
      "_model_module_version": "1.5.0",
      "_model_name": "HTMLModel",
      "_view_count": null,
      "_view_module": "@jupyter-widgets/controls",
      "_view_module_version": "1.5.0",
      "_view_name": "HTMLView",
      "description": "",
      "description_tooltip": null,
      "layout": "IPY_MODEL_717b98e49cbb4831bcccb5bfcd2d79a5",
      "placeholder": "​",
      "style": "IPY_MODEL_2a3f4039db554fbba6849de46c9feb7d",
      "value": "Sanity Checking DataLoader 0: 100%"
     }
    },
    "da03fd37a5844453ab54ce1bc726e951": {
     "model_module": "@jupyter-widgets/controls",
     "model_module_version": "1.5.0",
     "model_name": "HTMLModel",
     "state": {
      "_dom_classes": [],
      "_model_module": "@jupyter-widgets/controls",
      "_model_module_version": "1.5.0",
      "_model_name": "HTMLModel",
      "_view_count": null,
      "_view_module": "@jupyter-widgets/controls",
      "_view_module_version": "1.5.0",
      "_view_name": "HTMLView",
      "description": "",
      "description_tooltip": null,
      "layout": "IPY_MODEL_c8d8a13e6371478887b93bc7e39c61f1",
      "placeholder": "​",
      "style": "IPY_MODEL_122cd23c57044fb9bb9503b7aac6cd34",
      "value": " 1/1 [00:00&lt;00:00, 404.00it/s]"
     }
    },
    "e6970710f4db45d6b4f744de34a09ff2": {
     "model_module": "@jupyter-widgets/controls",
     "model_module_version": "1.5.0",
     "model_name": "DescriptionStyleModel",
     "state": {
      "_model_module": "@jupyter-widgets/controls",
      "_model_module_version": "1.5.0",
      "_model_name": "DescriptionStyleModel",
      "_view_count": null,
      "_view_module": "@jupyter-widgets/base",
      "_view_module_version": "1.2.0",
      "_view_name": "StyleView",
      "description_width": ""
     }
    },
    "f4894f8957534adc85f76915adb831e9": {
     "model_module": "@jupyter-widgets/controls",
     "model_module_version": "1.5.0",
     "model_name": "HBoxModel",
     "state": {
      "_dom_classes": [],
      "_model_module": "@jupyter-widgets/controls",
      "_model_module_version": "1.5.0",
      "_model_name": "HBoxModel",
      "_view_count": null,
      "_view_module": "@jupyter-widgets/controls",
      "_view_module_version": "1.5.0",
      "_view_name": "HBoxView",
      "box_style": "",
      "children": [
       "IPY_MODEL_d7ef3e58242b45cfb4b2b76f667dbe22",
       "IPY_MODEL_a3258c3e45414be9889540ea399dc78b",
       "IPY_MODEL_da03fd37a5844453ab54ce1bc726e951"
      ],
      "layout": "IPY_MODEL_0596c4022b754db396349c408529b39a"
     }
    },
    "f59a409bd70c4af8847679adcca05c01": {
     "model_module": "@jupyter-widgets/controls",
     "model_module_version": "1.5.0",
     "model_name": "HTMLModel",
     "state": {
      "_dom_classes": [],
      "_model_module": "@jupyter-widgets/controls",
      "_model_module_version": "1.5.0",
      "_model_name": "HTMLModel",
      "_view_count": null,
      "_view_module": "@jupyter-widgets/controls",
      "_view_module_version": "1.5.0",
      "_view_name": "HTMLView",
      "description": "",
      "description_tooltip": null,
      "layout": "IPY_MODEL_2d1571180c6c49b89e38c5bb38556704",
      "placeholder": "​",
      "style": "IPY_MODEL_e6970710f4db45d6b4f744de34a09ff2",
      "value": "Epoch 0: 100%"
     }
    }
   }
  }
 },
 "nbformat": 4,
 "nbformat_minor": 4
}
